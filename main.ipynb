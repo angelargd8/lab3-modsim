{
 "cells": [
  {
   "cell_type": "markdown",
   "id": "647d006d",
   "metadata": {},
   "source": [
    "# Laboratorio 3\n",
    "\n",
    "integrantes: \n",
    "\n",
    "    - Francis Aguilar - 22243 \n",
    "    - Diego García - 22404 \n",
    "    - Angela García -22869 \n",
    "\n",
    "enlace al repositorio: https://github.com/angelargd8/lab3-modsim"
   ]
  },
  {
   "cell_type": "markdown",
   "id": "a736adf9",
   "metadata": {},
   "source": [
    "# Ejercicio 1 "
   ]
  },
  {
   "cell_type": "markdown",
   "id": "391dfe71",
   "metadata": {},
   "source": [
    "## Defina y compare \n",
    "1. **Retraso de primer orden vs. cadena de retrasos**\n",
    "\n",
    "| Retraso de primer orden |  cadena de retrasos  |\n",
    "|:-----|:--------:|\n",
    "| Este modela un proceso de ajuste gradual hacia un valor objetivo con una constante tiempo que representa como una variable que se ajusta a un cambio de entradad con una incercia o retardo exponencial   | Secuencia de varios retrasos de primer orden conectados en serie para simular un retraso más realista y distribuido en el tiempo |\n",
    "| Propiedad sin memoria, la probabilidad de salida no es lo mismo que al tiempo en permanencia en stock   | Tiene una memoria larga, ya que los efectos se distribuyen en etapas   |\n",
    "| Su tiempo de respuesta es corto o medio  | El tiempo de respuesta es más largo y depende de número de etapas |\n",
    "| Se aplica en ajuste de stocks y temperatura   | Se aplica en percepción, producción y logística |\n",
    "| Su forma de respuesta es exponencial simple   | Su respuesta es gamma o una función retardada más compleja |\n",
    "\n",
    "\n",
    "2. **Fuerza de infección (λ) vs. número básico de reproducción (R₀)**\n",
    "\n",
    "| Fuerza de infección (λ) |  número básico de reproducción (R₀)  |\n",
    "|:-----|:--------:|\n",
    "| Es la tasa a la cual los susceptibles se infectan en un dado instante. Una medida dinámica que depende de cuantos infectados hay actualemtne y qué tan contagiosos son, que depende de cuantos infectados hay en el instante y qué tan contagiosos son   | Es el número promedio de infecciones secundarias causadas por un solo individuo infectado en una población completamente suceptible |\n",
    "| Cambia a lo largo del tiempo   | No es dinámica, porque es constante para una enfermedad y pobación dadad |\n",
    "| Aumenta si hay más infectados   | Si R_0 > 1 la infección puede propagarse y si R_0 < 1 ka infección se extinguirá |\n",
    "| Se usa durante la epidemia | Se usa al inicio de una epidema como un análisis teórico|\n",
    "\n",
    "\n",
    "## Explique  por qué \n",
    "3. **El sarampión requiere una cobertura de vacunación superior al 95%, mientras que el ébola solo necesita aproximadamente el 50%.**\n",
    "\n",
    "La cobertura mínima de vacunación que se necesita se calcula con la fómula:\n",
    "\n",
    "$$\n",
    "\\text{Cobertura necesaria} = 1 - \\frac {1}{R_0}\n",
    "$$\n",
    "\n",
    "La fórmula está basada en el principio de la inmunidad de grupo, que si suficientes personas son inmunes por vacunas la enfermedad no puede propagarse\n",
    "En el caso del sarampión el R_0 aproximado es de 12 a 18 y el ébola del 1.5 a 2.5. Esto es porque el sarampión es extremadamente contagioso y se transmite por el aire, a diferencia del ébola que es por contacto directo. \n",
    "\n",
    "Usando la fórmula de cobertura para las dos enfermedades: \n",
    "\n",
    "Sarampión:\n",
    "$$\n",
    "\\text{Cobertura necesaria} = 1 - \\frac {1}{15} \\approx 0.933 = 93% \n",
    "$$\n",
    "\n",
    "ébola:\n",
    "$$\n",
    "\\text{Cobertura necesaria} = 1 - \\frac {1}{2} \\approx 0.50 =  50% \n",
    "$$\n",
    "\n",
    "Por eso es que el sarampión requiere una cobertura de vacunación más alta que el ébola. \n",
    "\n",
    "\n",
    "4. **Las exigencias de vacunación alteran los equilibrios de Nash en modelos de teoría de juegos**\n",
    "\n",
    "El equilibrio de Nash ocurre cuando ningún jugador puede mejorar su resultado usando su estrategia individualmente por lo que los demás están haciendo. Esto se puede relacionar porque en este casos son las personas los jugadores y las estrategias serían vacunarse o no. Mientras, el payoff serían el riesgo de infección el costo de vaunarse y la cantidad de peronas vacunadas, porque da protección por inmunidad colectiva. Entonces, ya que la vacunación es volunaria y si cada persona actúa de una manera egoísta, el equilibrio de Nash no llega a una cobertura óptima. Porque si alguien piensa que no tiene sentido vacunarse porque ya muchos se vacunarion genera un free rider y se puede llegar a una baja cobertura de vacunación, aunque todos se beneficiarían si más personas se vacunan. Y si hay exigencias como requisitos escolares, laborales o institucionales, cambia la estrategia porque se limita o se elimina el que las personas no se vacunen y existe una penalización por no hacerlo, entonces el equilibrio de Nash se desplaza porque es racional incluso para la gente que no quería porque evitar la penalización tiene más valor. \n",
    "\n",
    "## Defina y compare los mecanismos de:\n",
    "\n",
    "5. **La lotería de vacunas de Ohio (conductual).**\n",
    "En mayo de 2021, en Ohio lanzó la campaña de \"Vax a million\" que cada persona que estuviera vacunada contra el COVID-19 automáticamente entraba en una lotería con premios de $1 millón de dólares o becas para jóvenes y por 5 semanas se sortearía un millón de dólares a los mayores de 18 años y 5 becas completas a los que tuvieran de 12 a 17 años. Entonces, esto motivo a las personas que dudaban vacunarse usando insentivos conductuales y aprovecharon el sesgo de atención, que es la sobreestimación de eventos poco probables y el deseo de recompensa inmediata.\n",
    "\n",
    "\n",
    "6. **Las exigencias de ingreso escolar en Francia (estructural)**\n",
    "\n",
    "En el 2018, Francia paso de 3 vacunas obligatorias a 11 vacunas para niños y si un niño no tenía el esquema completo no podía inscribirse en una escuela publica o guardería. Entonces, querían aumentar la cobertura por medio de una regulación estructural, condicionando los accesos a servicios públicos.\n",
    "\n",
    "| La lotería de vacunas de Ohio (conductual). |  Las exigencias de ingreso escolar en Francia (estructural)  |\n",
    "|:-----|:--------:|\n",
    "| Su enfoque es conductual, psicologico | Su enfoque es estructural normativo |\n",
    "| Hay libertad de elección | La libertad de elección se restringe porque tiene consecuencias legales|\n",
    "| Influye en percepciones, emociones y deseo de recompensa | Cambia el acceso a los derechos como la educación |\n",
    "| La aplicación es a corto plazo, esta sobre un comportamiento en especifico | la aplicación es a largo plazo y cambia las reglas sociales e institucionales |\n",
    "| Dan sorteos, premios y hicieron una campaña creativa | Reglas obligatorias, sanciones y exclusión de servicios |\n",
    "\n"
   ]
  },
  {
   "cell_type": "markdown",
   "id": "c9a552d4",
   "metadata": {},
   "source": [
    "# Referencias: \n",
    "\n",
    "- Ciclos de retroalimentacion respuesta retrasada las consecuencias de la respuesta retrasada en los ciclos de retroalimentacion. (s. f.). FasterCapital. Recuperado 28 de julio de 2025, de https://fastercapital.com/es/contenido/Ciclos-de-retroalimentacion--respuesta-retrasada--las-consecuencias-de-la-respuesta-retrasada-en-los-ciclos-de-retroalimentacion.html\n",
    "- ¿Cómo incorpora la retroalimentación y el aprendizaje de sus modelos y simulaciones en ML? (s. f.). Recuperado 28 de julio de 2025, de https://es.linkedin.com/advice/1/how-do-you-incorporate-feedback-learning-6c?lang=es\n",
    "- González, C. (2021, mayo 28). ¿Quién ganó la lotería de vacunas de Ohio? Diario AS. https://as.com/us/us/2021/05/28/actualidad/1622222442_817580.html\n",
    "- Las vacunas obligatorias en Francia pasarán de 3 a 11 a partir de 2018. (2017, agosto 31). France 24. https://www.france24.com/es/20170831-las-vacunas-obligatorias-en-francia-pasaran-de-3-11-partir-de-2018\n",
    "- Laura. (2025, abril 7). Vacunas obligatorias y programas de salud preventiva en Francia. Vivir en Europa. https://vivireneuropa.com/francia/vacunas-obligatorias-y-programas-de-salud-preventiva-en-francia/\n"
   ]
  }
 ],
 "metadata": {
  "language_info": {
   "name": "python"
  }
 },
 "nbformat": 4,
 "nbformat_minor": 5
}
